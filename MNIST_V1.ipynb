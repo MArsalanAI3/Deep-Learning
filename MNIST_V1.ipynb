{
  "nbformat": 4,
  "nbformat_minor": 0,
  "metadata": {
    "colab": {
      "name": "MNIST V1.ipynb",
      "provenance": [],
      "collapsed_sections": []
    },
    "kernelspec": {
      "name": "python3",
      "display_name": "Python 3"
    }
  },
  "cells": [
    {
      "cell_type": "code",
      "metadata": {
        "id": "IbTj6JwjQTRX",
        "colab_type": "code",
        "colab": {
          "base_uri": "https://localhost:8080/",
          "height": 34
        },
        "outputId": "c68a1e7a-fcc2-46b6-b5e7-c428ee646c5e"
      },
      "source": [
        "import tensorflow as tf\n",
        "print(tf.__version__)"
      ],
      "execution_count": 1,
      "outputs": [
        {
          "output_type": "stream",
          "text": [
            "2.3.0\n"
          ],
          "name": "stdout"
        }
      ]
    },
    {
      "cell_type": "code",
      "metadata": {
        "id": "XcvF4uveQXfw",
        "colab_type": "code",
        "colab": {}
      },
      "source": [
        "from tensorflow.keras.datasets import mnist"
      ],
      "execution_count": 2,
      "outputs": []
    },
    {
      "cell_type": "code",
      "metadata": {
        "id": "HXn9QV5ZQbtJ",
        "colab_type": "code",
        "colab": {
          "base_uri": "https://localhost:8080/",
          "height": 51
        },
        "outputId": "08f58cc2-941a-4a0d-d76e-049f2d72a541"
      },
      "source": [
        "(train_images, train_labels), (test_images, test_labels) = mnist.load_data()"
      ],
      "execution_count": 3,
      "outputs": [
        {
          "output_type": "stream",
          "text": [
            "Downloading data from https://storage.googleapis.com/tensorflow/tf-keras-datasets/mnist.npz\n",
            "11493376/11490434 [==============================] - 0s 0us/step\n"
          ],
          "name": "stdout"
        }
      ]
    },
    {
      "cell_type": "code",
      "metadata": {
        "id": "X0widaJoQcSn",
        "colab_type": "code",
        "colab": {
          "base_uri": "https://localhost:8080/",
          "height": 34
        },
        "outputId": "fcda5562-ea78-4c2f-a967-6c0f6274bae4"
      },
      "source": [
        "train_images.shape"
      ],
      "execution_count": 4,
      "outputs": [
        {
          "output_type": "execute_result",
          "data": {
            "text/plain": [
              "(60000, 28, 28)"
            ]
          },
          "metadata": {
            "tags": []
          },
          "execution_count": 4
        }
      ]
    },
    {
      "cell_type": "code",
      "metadata": {
        "id": "P3Yn81NnQgtM",
        "colab_type": "code",
        "colab": {
          "base_uri": "https://localhost:8080/",
          "height": 34
        },
        "outputId": "ad99f08a-1e45-445d-860b-49d6006c060e"
      },
      "source": [
        "train_images.ndim"
      ],
      "execution_count": 5,
      "outputs": [
        {
          "output_type": "execute_result",
          "data": {
            "text/plain": [
              "3"
            ]
          },
          "metadata": {
            "tags": []
          },
          "execution_count": 5
        }
      ]
    },
    {
      "cell_type": "code",
      "metadata": {
        "id": "IqgMd7IxQitI",
        "colab_type": "code",
        "colab": {
          "base_uri": "https://localhost:8080/",
          "height": 1000
        },
        "outputId": "ee58e106-ce55-4ff0-fae8-4f276e766890"
      },
      "source": [
        "train_images[7]"
      ],
      "execution_count": 6,
      "outputs": [
        {
          "output_type": "execute_result",
          "data": {
            "text/plain": [
              "array([[  0,   0,   0,   0,   0,   0,   0,   0,   0,   0,   0,   0,   0,\n",
              "          0,   0,   0,   0,   0,   0,   0,   0,   0,   0,   0,   0,   0,\n",
              "          0,   0],\n",
              "       [  0,   0,   0,   0,   0,   0,   0,   0,   0,   0,   0,   0,   0,\n",
              "          0,   0,   0,   0,   0,   0,   0,   0,   0,   0,   0,   0,   0,\n",
              "          0,   0],\n",
              "       [  0,   0,   0,   0,   0,   0,   0,   0,   0,   0,   0,   0,   0,\n",
              "          0,   0,   0,   0,   0,   0,   0,   0,   0,   0,   0,   0,   0,\n",
              "          0,   0],\n",
              "       [  0,   0,   0,   0,   0,   0,   0,   0,   0,   0,   0,   0,   0,\n",
              "          0,   0,   0,   0,   0,   0,   0,   0,   0,   0,   0,   0,   0,\n",
              "          0,   0],\n",
              "       [  0,   0,   0,   0,   0,   0,   0,   0,   0,   0,   0,   0,   0,\n",
              "          0,   0,   0,   0,   0,   0,   0,   0,   0,   0,   0,   0,   0,\n",
              "          0,   0],\n",
              "       [  0,   0,   0,   0,   0,   0,   0,   0,   0,   0,   0,  38,  43,\n",
              "        105, 255, 253, 253, 253, 253, 253, 174,   6,   0,   0,   0,   0,\n",
              "          0,   0],\n",
              "       [  0,   0,   0,   0,   0,   0,   0,   0,   0,  43, 139, 224, 226,\n",
              "        252, 253, 252, 252, 252, 252, 252, 252, 158,  14,   0,   0,   0,\n",
              "          0,   0],\n",
              "       [  0,   0,   0,   0,   0,   0,   0,   0,   0, 178, 252, 252, 252,\n",
              "        252, 253, 252, 252, 252, 252, 252, 252, 252,  59,   0,   0,   0,\n",
              "          0,   0],\n",
              "       [  0,   0,   0,   0,   0,   0,   0,   0,   0, 109, 252, 252, 230,\n",
              "        132, 133, 132, 132, 189, 252, 252, 252, 252,  59,   0,   0,   0,\n",
              "          0,   0],\n",
              "       [  0,   0,   0,   0,   0,   0,   0,   0,   0,   4,  29,  29,  24,\n",
              "          0,   0,   0,   0,  14, 226, 252, 252, 172,   7,   0,   0,   0,\n",
              "          0,   0],\n",
              "       [  0,   0,   0,   0,   0,   0,   0,   0,   0,   0,   0,   0,   0,\n",
              "          0,   0,   0,   0,  85, 243, 252, 252, 144,   0,   0,   0,   0,\n",
              "          0,   0],\n",
              "       [  0,   0,   0,   0,   0,   0,   0,   0,   0,   0,   0,   0,   0,\n",
              "          0,   0,   0,  88, 189, 252, 252, 252,  14,   0,   0,   0,   0,\n",
              "          0,   0],\n",
              "       [  0,   0,   0,   0,   0,   0,   0,   0,   0,   0,   0,   0,   0,\n",
              "          0,  91, 212, 247, 252, 252, 252, 204,   9,   0,   0,   0,   0,\n",
              "          0,   0],\n",
              "       [  0,   0,   0,   0,   0,   0,   0,   0,   0,  32, 125, 193, 193,\n",
              "        193, 253, 252, 252, 252, 238, 102,  28,   0,   0,   0,   0,   0,\n",
              "          0,   0],\n",
              "       [  0,   0,   0,   0,   0,   0,   0,   0,  45, 222, 252, 252, 252,\n",
              "        252, 253, 252, 252, 252, 177,   0,   0,   0,   0,   0,   0,   0,\n",
              "          0,   0],\n",
              "       [  0,   0,   0,   0,   0,   0,   0,   0,  45, 223, 253, 253, 253,\n",
              "        253, 255, 253, 253, 253, 253,  74,   0,   0,   0,   0,   0,   0,\n",
              "          0,   0],\n",
              "       [  0,   0,   0,   0,   0,   0,   0,   0,   0,  31, 123,  52,  44,\n",
              "         44,  44,  44, 143, 252, 252,  74,   0,   0,   0,   0,   0,   0,\n",
              "          0,   0],\n",
              "       [  0,   0,   0,   0,   0,   0,   0,   0,   0,   0,   0,   0,   0,\n",
              "          0,   0,   0,  15, 252, 252,  74,   0,   0,   0,   0,   0,   0,\n",
              "          0,   0],\n",
              "       [  0,   0,   0,   0,   0,   0,   0,   0,   0,   0,   0,   0,   0,\n",
              "          0,   0,   0,  86, 252, 252,  74,   0,   0,   0,   0,   0,   0,\n",
              "          0,   0],\n",
              "       [  0,   0,   0,   0,   0,   0,   5,  75,   9,   0,   0,   0,   0,\n",
              "          0,   0,  98, 242, 252, 252,  74,   0,   0,   0,   0,   0,   0,\n",
              "          0,   0],\n",
              "       [  0,   0,   0,   0,   0,  61, 183, 252,  29,   0,   0,   0,   0,\n",
              "         18,  92, 239, 252, 252, 243,  65,   0,   0,   0,   0,   0,   0,\n",
              "          0,   0],\n",
              "       [  0,   0,   0,   0,   0, 208, 252, 252, 147, 134, 134, 134, 134,\n",
              "        203, 253, 252, 252, 188,  83,   0,   0,   0,   0,   0,   0,   0,\n",
              "          0,   0],\n",
              "       [  0,   0,   0,   0,   0, 208, 252, 252, 252, 252, 252, 252, 252,\n",
              "        252, 253, 230, 153,   8,   0,   0,   0,   0,   0,   0,   0,   0,\n",
              "          0,   0],\n",
              "       [  0,   0,   0,   0,   0,  49, 157, 252, 252, 252, 252, 252, 217,\n",
              "        207, 146,  45,   0,   0,   0,   0,   0,   0,   0,   0,   0,   0,\n",
              "          0,   0],\n",
              "       [  0,   0,   0,   0,   0,   0,   7, 103, 235, 252, 172, 103,  24,\n",
              "          0,   0,   0,   0,   0,   0,   0,   0,   0,   0,   0,   0,   0,\n",
              "          0,   0],\n",
              "       [  0,   0,   0,   0,   0,   0,   0,   0,   0,   0,   0,   0,   0,\n",
              "          0,   0,   0,   0,   0,   0,   0,   0,   0,   0,   0,   0,   0,\n",
              "          0,   0],\n",
              "       [  0,   0,   0,   0,   0,   0,   0,   0,   0,   0,   0,   0,   0,\n",
              "          0,   0,   0,   0,   0,   0,   0,   0,   0,   0,   0,   0,   0,\n",
              "          0,   0],\n",
              "       [  0,   0,   0,   0,   0,   0,   0,   0,   0,   0,   0,   0,   0,\n",
              "          0,   0,   0,   0,   0,   0,   0,   0,   0,   0,   0,   0,   0,\n",
              "          0,   0]], dtype=uint8)"
            ]
          },
          "metadata": {
            "tags": []
          },
          "execution_count": 6
        }
      ]
    },
    {
      "cell_type": "code",
      "metadata": {
        "id": "XsI6So-ZQlQj",
        "colab_type": "code",
        "colab": {
          "base_uri": "https://localhost:8080/",
          "height": 34
        },
        "outputId": "33133d07-2d1d-463e-b0db-92db305e0267"
      },
      "source": [
        "train_images[4].shape"
      ],
      "execution_count": 7,
      "outputs": [
        {
          "output_type": "execute_result",
          "data": {
            "text/plain": [
              "(28, 28)"
            ]
          },
          "metadata": {
            "tags": []
          },
          "execution_count": 7
        }
      ]
    },
    {
      "cell_type": "code",
      "metadata": {
        "id": "vE_uPhAbQoiH",
        "colab_type": "code",
        "colab": {
          "base_uri": "https://localhost:8080/",
          "height": 34
        },
        "outputId": "c1106b67-4cf0-4d4d-8a20-28de7cba1b22"
      },
      "source": [
        "train_labels[29000]"
      ],
      "execution_count": 8,
      "outputs": [
        {
          "output_type": "execute_result",
          "data": {
            "text/plain": [
              "2"
            ]
          },
          "metadata": {
            "tags": []
          },
          "execution_count": 8
        }
      ]
    },
    {
      "cell_type": "code",
      "metadata": {
        "id": "DuEbv8yIQrDd",
        "colab_type": "code",
        "colab": {}
      },
      "source": [
        "from tensorflow.keras import models\n",
        "from tensorflow.keras import layers\n",
        "network = models.Sequential()\n",
        "network.add(layers.Dense(512 , activation = 'relu' , input_shape=(28*28,)))\n",
        "network.add(layers.Dense(10, activation = 'softmax',))"
      ],
      "execution_count": 9,
      "outputs": []
    },
    {
      "cell_type": "code",
      "metadata": {
        "id": "KukZve0uQuqK",
        "colab_type": "code",
        "colab": {}
      },
      "source": [
        "network.compile( optimizer = 'rmsprop',\n",
        "               loss = 'categorical_crossentropy',\n",
        "               metrics=['accuracy'])"
      ],
      "execution_count": 10,
      "outputs": []
    },
    {
      "cell_type": "code",
      "metadata": {
        "id": "Jj4Ogoe-RGvW",
        "colab_type": "code",
        "colab": {}
      },
      "source": [
        "train_images = train_images.reshape((60000 , 28*28))\n",
        "train_images = train_images.astype('float32')/255\n",
        "test_images = test_images.reshape((10000, 28*28))\n",
        "test_images = test_images.astype('float32')/255"
      ],
      "execution_count": 11,
      "outputs": []
    },
    {
      "cell_type": "code",
      "metadata": {
        "id": "SIWIeFjdRHYZ",
        "colab_type": "code",
        "colab": {}
      },
      "source": [
        "from tensorflow.keras.utils import to_categorical\n",
        "train_labels = to_categorical(train_labels)\n",
        "test_labels = to_categorical(test_labels)"
      ],
      "execution_count": 12,
      "outputs": []
    },
    {
      "cell_type": "code",
      "metadata": {
        "id": "-PoX96E_RLia",
        "colab_type": "code",
        "colab": {
          "base_uri": "https://localhost:8080/",
          "height": 1000
        },
        "outputId": "862956b9-be93-4bd4-d189-3f6d580ad110"
      },
      "source": [
        "network.fit(train_images , train_labels , epochs=34, batch_size=2345)"
      ],
      "execution_count": 13,
      "outputs": [
        {
          "output_type": "stream",
          "text": [
            "Epoch 1/34\n",
            "26/26 [==============================] - 2s 74ms/step - loss: 0.7145 - accuracy: 0.8025\n",
            "Epoch 2/34\n",
            "26/26 [==============================] - 2s 73ms/step - loss: 0.3322 - accuracy: 0.9066\n",
            "Epoch 3/34\n",
            "26/26 [==============================] - 2s 74ms/step - loss: 0.2600 - accuracy: 0.9261\n",
            "Epoch 4/34\n",
            "26/26 [==============================] - 2s 73ms/step - loss: 0.2108 - accuracy: 0.9401\n",
            "Epoch 5/34\n",
            "26/26 [==============================] - 2s 74ms/step - loss: 0.1834 - accuracy: 0.9470\n",
            "Epoch 6/34\n",
            "26/26 [==============================] - 2s 74ms/step - loss: 0.1557 - accuracy: 0.9552\n",
            "Epoch 7/34\n",
            "26/26 [==============================] - 2s 74ms/step - loss: 0.1367 - accuracy: 0.9605\n",
            "Epoch 8/34\n",
            "26/26 [==============================] - 2s 73ms/step - loss: 0.1201 - accuracy: 0.9653\n",
            "Epoch 9/34\n",
            "26/26 [==============================] - 2s 73ms/step - loss: 0.1081 - accuracy: 0.9692\n",
            "Epoch 10/34\n",
            "26/26 [==============================] - 2s 74ms/step - loss: 0.0967 - accuracy: 0.9728\n",
            "Epoch 11/34\n",
            "26/26 [==============================] - 2s 73ms/step - loss: 0.0870 - accuracy: 0.9754\n",
            "Epoch 12/34\n",
            "26/26 [==============================] - 2s 73ms/step - loss: 0.0784 - accuracy: 0.9779\n",
            "Epoch 13/34\n",
            "26/26 [==============================] - 2s 74ms/step - loss: 0.0715 - accuracy: 0.9795\n",
            "Epoch 14/34\n",
            "26/26 [==============================] - 2s 73ms/step - loss: 0.0665 - accuracy: 0.9811\n",
            "Epoch 15/34\n",
            "26/26 [==============================] - 2s 74ms/step - loss: 0.0593 - accuracy: 0.9830\n",
            "Epoch 16/34\n",
            "26/26 [==============================] - 2s 73ms/step - loss: 0.0540 - accuracy: 0.9847\n",
            "Epoch 17/34\n",
            "26/26 [==============================] - 2s 73ms/step - loss: 0.0496 - accuracy: 0.9864\n",
            "Epoch 18/34\n",
            "26/26 [==============================] - 2s 74ms/step - loss: 0.0459 - accuracy: 0.9875\n",
            "Epoch 19/34\n",
            "26/26 [==============================] - 2s 73ms/step - loss: 0.0411 - accuracy: 0.9887\n",
            "Epoch 20/34\n",
            "26/26 [==============================] - 2s 74ms/step - loss: 0.0379 - accuracy: 0.9898\n",
            "Epoch 21/34\n",
            "26/26 [==============================] - 2s 73ms/step - loss: 0.0355 - accuracy: 0.9904\n",
            "Epoch 22/34\n",
            "26/26 [==============================] - 2s 73ms/step - loss: 0.0324 - accuracy: 0.9914\n",
            "Epoch 23/34\n",
            "26/26 [==============================] - 2s 73ms/step - loss: 0.0301 - accuracy: 0.9922\n",
            "Epoch 24/34\n",
            "26/26 [==============================] - 2s 73ms/step - loss: 0.0279 - accuracy: 0.9928\n",
            "Epoch 25/34\n",
            "26/26 [==============================] - 2s 73ms/step - loss: 0.0246 - accuracy: 0.9945\n",
            "Epoch 26/34\n",
            "26/26 [==============================] - 2s 74ms/step - loss: 0.0231 - accuracy: 0.9948\n",
            "Epoch 27/34\n",
            "26/26 [==============================] - 2s 73ms/step - loss: 0.0214 - accuracy: 0.9952\n",
            "Epoch 28/34\n",
            "26/26 [==============================] - 2s 74ms/step - loss: 0.0197 - accuracy: 0.9954\n",
            "Epoch 29/34\n",
            "26/26 [==============================] - 2s 74ms/step - loss: 0.0191 - accuracy: 0.9956\n",
            "Epoch 30/34\n",
            "26/26 [==============================] - 2s 73ms/step - loss: 0.0168 - accuracy: 0.9964\n",
            "Epoch 31/34\n",
            "26/26 [==============================] - 2s 74ms/step - loss: 0.0155 - accuracy: 0.9969\n",
            "Epoch 32/34\n",
            "26/26 [==============================] - 2s 74ms/step - loss: 0.0138 - accuracy: 0.9971\n",
            "Epoch 33/34\n",
            "26/26 [==============================] - 2s 74ms/step - loss: 0.0124 - accuracy: 0.9978\n",
            "Epoch 34/34\n",
            "26/26 [==============================] - 2s 73ms/step - loss: 0.0121 - accuracy: 0.9977\n"
          ],
          "name": "stdout"
        },
        {
          "output_type": "execute_result",
          "data": {
            "text/plain": [
              "<tensorflow.python.keras.callbacks.History at 0x7f236a5b46a0>"
            ]
          },
          "metadata": {
            "tags": []
          },
          "execution_count": 13
        }
      ]
    },
    {
      "cell_type": "code",
      "metadata": {
        "id": "qgY26ll8RgXp",
        "colab_type": "code",
        "colab": {
          "base_uri": "https://localhost:8080/",
          "height": 34
        },
        "outputId": "0b9f04df-97b4-4e62-81ca-3ea07283e911"
      },
      "source": [
        "test_loss, test_acc = network.evaluate(test_images, test_labels)"
      ],
      "execution_count": 14,
      "outputs": [
        {
          "output_type": "stream",
          "text": [
            "313/313 [==============================] - 1s 2ms/step - loss: 0.0667 - accuracy: 0.9791\n"
          ],
          "name": "stdout"
        }
      ]
    },
    {
      "cell_type": "code",
      "metadata": {
        "id": "4OrZ2H8JSClf",
        "colab_type": "code",
        "colab": {
          "base_uri": "https://localhost:8080/",
          "height": 238
        },
        "outputId": "23c4ab51-41d9-4cc2-e4db-ed232055cfd6"
      },
      "source": [
        "network.predict(test_images)"
      ],
      "execution_count": 15,
      "outputs": [
        {
          "output_type": "execute_result",
          "data": {
            "text/plain": [
              "array([[1.6175691e-09, 1.0998404e-09, 6.5995340e-07, ..., 9.9992430e-01,\n",
              "        1.9246131e-07, 7.2605263e-07],\n",
              "       [6.4921131e-11, 7.3032529e-06, 9.9999201e-01, ..., 1.3281740e-16,\n",
              "        3.7659069e-07, 2.4263133e-12],\n",
              "       [1.4290045e-07, 9.9888891e-01, 1.8932996e-04, ..., 2.3587269e-04,\n",
              "        6.3269224e-04, 5.3769763e-06],\n",
              "       ...,\n",
              "       [3.5031460e-14, 1.9524469e-11, 1.1556216e-12, ..., 7.5673732e-08,\n",
              "        1.6495028e-07, 1.2454461e-05],\n",
              "       [1.0407646e-12, 3.5294860e-13, 6.6410153e-13, ..., 1.8327671e-10,\n",
              "        1.8263336e-05, 2.2625244e-12],\n",
              "       [2.2442292e-13, 2.6511735e-15, 4.3232609e-12, ..., 6.9011618e-16,\n",
              "        1.5866536e-13, 1.0538803e-15]], dtype=float32)"
            ]
          },
          "metadata": {
            "tags": []
          },
          "execution_count": 15
        }
      ]
    },
    {
      "cell_type": "code",
      "metadata": {
        "id": "A6jpvOC_SPRk",
        "colab_type": "code",
        "colab": {
          "base_uri": "https://localhost:8080/",
          "height": 68
        },
        "outputId": "9a819f11-e3a5-4455-e2b4-aee7be474603"
      },
      "source": [
        "from tensorflow.keras.datasets import mnist\n",
        "(train_images , train_labels) , (test_images,test_labels) = mnist.load_data()\n",
        "\n",
        "print(train_images.ndim)\n",
        "\n",
        "print(train_images.shape)\n",
        "\n",
        "print(train_images.dtype)"
      ],
      "execution_count": 16,
      "outputs": [
        {
          "output_type": "stream",
          "text": [
            "3\n",
            "(60000, 28, 28)\n",
            "uint8\n"
          ],
          "name": "stdout"
        }
      ]
    },
    {
      "cell_type": "code",
      "metadata": {
        "id": "7ANra_ZbSWd2",
        "colab_type": "code",
        "colab": {
          "base_uri": "https://localhost:8080/",
          "height": 265
        },
        "outputId": "d50604c1-27e7-401d-e350-64ab7b9e411d"
      },
      "source": [
        "digit = test_images[9]\n",
        "import matplotlib.pyplot as plt\n",
        "plt.imshow(digit, cmap=plt.cm.binary)\n",
        "plt.show()"
      ],
      "execution_count": 30,
      "outputs": [
        {
          "output_type": "display_data",
          "data": {
            "image/png": "[encoded data removed]",
            "text/plain": [
              "<Figure size 432x288 with 1 Axes>"
            ]
          },
          "metadata": {
            "tags": [],
            "needs_background": "light"
          }
        }
      ]
    },
    {
      "cell_type": "code",
      "metadata": {
        "id": "OVIyNnGASaUO",
        "colab_type": "code",
        "colab": {}
      },
      "source": [
        ""
      ],
      "execution_count": null,
      "outputs": []
    }
  ]
}