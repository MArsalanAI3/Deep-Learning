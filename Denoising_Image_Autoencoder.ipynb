{
  "nbformat": 4,
  "nbformat_minor": 0,
  "metadata": {
    "colab": {
      "name": "Denoising_Image_Autoencoder.ipynb",
      "provenance": [],
      "collapsed_sections": []
    },
    "kernelspec": {
      "name": "python3",
      "display_name": "Python 3"
    }
  },
  "cells": [
    {
      "cell_type": "code",
      "metadata": {
        "id": "kpFDJsPowL7q",
        "colab_type": "code",
        "colab": {}
      },
      "source": [
        "import numpy as np\n",
        "import keras\n",
        "from keras.datasets import mnist\n",
        "from keras.models import Sequential, Model\n",
        "from keras.layers import *\n",
        "from keras import optimizers\n",
        "from keras.optimizers import Adam"
      ],
      "execution_count": 27,
      "outputs": []
    },
    {
      "cell_type": "code",
      "metadata": {
        "id": "vs72qpaEynbR",
        "colab_type": "code",
        "colab": {}
      },
      "source": [
        "(x_train, y_train), (x_test, y_test) = mnist.load_data()\n",
        "train_x = x_train.reshape(60000, 784) / 255\n",
        "val_x = x_test.reshape(10000, 784) / 255"
      ],
      "execution_count": 28,
      "outputs": []
    },
    {
      "cell_type": "code",
      "metadata": {
        "id": "iiZtqPiDyy-j",
        "colab_type": "code",
        "colab": {
          "base_uri": "https://localhost:8080/",
          "height": 357
        },
        "outputId": "6edccd34-5825-4764-d53f-8262f17bce5b"
      },
      "source": [
        "autoencoder = Sequential()\n",
        "autoencoder.add(Dense(512,  activation='elu', input_shape=(784,)))\n",
        "autoencoder.add(Dense(128,  activation='elu'))\n",
        "autoencoder.add(Dense(10,    activation='linear', name=\"bottleneck\"))\n",
        "autoencoder.add(Dense(128,  activation='elu'))\n",
        "autoencoder.add(Dense(512,  activation='elu'))\n",
        "autoencoder.add(Dense(784,  activation='sigmoid'))\n",
        "autoencoder.compile(loss='mean_squared_error', optimizer = Adam())\n",
        "trained_model = autoencoder.fit(train_x, train_x, batch_size=1024, epochs=10, verbose=1, validation_data=(val_x, val_x))\n",
        "encoder = Model(autoencoder.input, autoencoder.get_layer('bottleneck').output)\n",
        "encoded_data = encoder.predict(train_x)  # bottleneck representation\n",
        "decoded_output = autoencoder.predict(train_x)        # reconstruction\n",
        "encoding_dim = 10"
      ],
      "execution_count": 29,
      "outputs": [
        {
          "output_type": "stream",
          "text": [
            "Epoch 1/10\n",
            "59/59 [==============================] - 7s 114ms/step - loss: 0.0756 - val_loss: 0.0493\n",
            "Epoch 2/10\n",
            "59/59 [==============================] - 7s 111ms/step - loss: 0.0430 - val_loss: 0.0373\n",
            "Epoch 3/10\n",
            "59/59 [==============================] - 7s 111ms/step - loss: 0.0343 - val_loss: 0.0307\n",
            "Epoch 4/10\n",
            "59/59 [==============================] - 7s 111ms/step - loss: 0.0295 - val_loss: 0.0272\n",
            "Epoch 5/10\n",
            "59/59 [==============================] - 7s 112ms/step - loss: 0.0265 - val_loss: 0.0248\n",
            "Epoch 6/10\n",
            "59/59 [==============================] - 7s 114ms/step - loss: 0.0244 - val_loss: 0.0232\n",
            "Epoch 7/10\n",
            "59/59 [==============================] - 7s 113ms/step - loss: 0.0229 - val_loss: 0.0220\n",
            "Epoch 8/10\n",
            "59/59 [==============================] - 7s 111ms/step - loss: 0.0219 - val_loss: 0.0210\n",
            "Epoch 9/10\n",
            "59/59 [==============================] - 6s 108ms/step - loss: 0.0210 - val_loss: 0.0203\n",
            "Epoch 10/10\n",
            "59/59 [==============================] - 6s 109ms/step - loss: 0.0202 - val_loss: 0.0196\n"
          ],
          "name": "stdout"
        }
      ]
    },
    {
      "cell_type": "code",
      "metadata": {
        "id": "mRlfJsVU1LFh",
        "colab_type": "code",
        "colab": {}
      },
      "source": [
        "# return the decoder\n",
        "encoded_input = Input(shape=(encoding_dim,))\n",
        "decoder = autoencoder.layers[-3](encoded_input)\n",
        "decoder = autoencoder.layers[-2](decoder)\n",
        "decoder = autoencoder.layers[-1](decoder)\n",
        "decoder = Model(encoded_input, decoder)"
      ],
      "execution_count": 30,
      "outputs": []
    },
    {
      "cell_type": "code",
      "metadata": {
        "id": "F15M2_cUy3w9",
        "colab_type": "code",
        "colab": {
          "base_uri": "https://localhost:8080/",
          "height": 34
        },
        "outputId": "0f250f59-60ec-4ca2-a229-9918efb87aa5"
      },
      "source": [
        "%matplotlib inline\n",
        "from keras.preprocessing import image\n",
        "# if the img.png is not one of the MNIST dataset that the model was trained on, the error will be very high.\n",
        "img = image.load_img (\"Digit-8.png\", target_size=(28, 28),color_mode = \"grayscale\")\n",
        "input_img = image.img_to_array(img)\n",
        "inputs = input_img.reshape(1,784)\n",
        "target_data = autoencoder.predict(inputs)\n",
        "dist = np.linalg.norm(inputs - target_data, axis=-1)\n",
        "print(dist)"
      ],
      "execution_count": 33,
      "outputs": [
        {
          "output_type": "stream",
          "text": [
            "[2665.6296]\n"
          ],
          "name": "stdout"
        }
      ]
    },
    {
      "cell_type": "code",
      "metadata": {
        "id": "mQJVxPbszxGY",
        "colab_type": "code",
        "colab": {
          "base_uri": "https://localhost:8080/",
          "height": 282
        },
        "outputId": "a3cb4e7f-0593-48b0-958f-da99122ce816"
      },
      "source": [
        "# The code below is from the Keras Blogs\n",
        "# https://blog.keras.io/building-autoencoders-in-keras.html\n",
        "import matplotlib.pyplot as plt\n",
        "noise_factor = 0.5\n",
        "x_train_noisy = x_train + noise_factor * np.random.normal(loc=0.0, scale=1.0, size=x_train.shape) \n",
        "x_test_noisy = x_test + noise_factor * np.random.normal(loc=0.0, scale=1.0, size=x_test.shape) \n",
        "\n",
        "x_train_noisy = np.clip(x_train_noisy, 0., 1.)\n",
        "x_test_noisy = np.clip(x_test_noisy, 0., 1.)\n",
        "\n",
        "#Print one image to see the noise\n",
        "plt.imshow(x_test_noisy[1].reshape(28, 28))"
      ],
      "execution_count": 34,
      "outputs": [
        {
          "output_type": "execute_result",
          "data": {
            "text/plain": [
              "<matplotlib.image.AxesImage at 0x7f43399a2b38>"
            ]
          },
          "metadata": {
            "tags": []
          },
          "execution_count": 34
        },
        {
          "output_type": "display_data",
          "data": {
            "image/png": "[encoded data removed]",
            "text/plain": [
              "<Figure size 432x288 with 1 Axes>"
            ]
          },
          "metadata": {
            "tags": [],
            "needs_background": "light"
          }
        }
      ]
    },
    {
      "cell_type": "code",
      "metadata": {
        "id": "D01MYW6_zzmn",
        "colab_type": "code",
        "colab": {}
      },
      "source": [
        "input_img = Input(shape=(28, 28, 1))\n",
        "\n",
        "nn = Conv2D(32, (3, 3), activation='relu', padding='same')(input_img)\n",
        "nn = MaxPooling2D((2, 2), padding='same')(nn)\n",
        "nn = Conv2D(32, (3, 3), activation='relu', padding='same')(nn)\n",
        "encoded = MaxPooling2D((2, 2), padding='same')(nn)"
      ],
      "execution_count": 35,
      "outputs": []
    },
    {
      "cell_type": "code",
      "metadata": {
        "id": "npnQgebB0nkS",
        "colab_type": "code",
        "colab": {}
      },
      "source": [
        "nn = Conv2D(32, (3, 3), activation='relu', padding='same')(encoded)\n",
        "nn = UpSampling2D((2, 2))(nn)\n",
        "nn = Conv2D(32, (3, 3), activation='relu', padding='same')(nn)\n",
        "nn = UpSampling2D((2, 2))(nn)\n",
        "decoded = Conv2D(1, (3, 3), activation='sigmoid', padding='same')(nn)"
      ],
      "execution_count": 36,
      "outputs": []
    },
    {
      "cell_type": "code",
      "metadata": {
        "id": "bi62rUeS0YFI",
        "colab_type": "code",
        "colab": {
          "base_uri": "https://localhost:8080/",
          "height": 170
        },
        "outputId": "2a3372a5-600c-4773-f87b-5f0587d0152c"
      },
      "source": [
        "autoencoder = Model(input_img, decoded)\n",
        "autoencoder.compile(optimizer='adam',loss='binary_crossentropy')\n",
        "autoencoder.fit(x_train_noisy, x_train,\n",
        "                epochs=4,\n",
        "                batch_size=300,\n",
        "                validation_data=(x_test_noisy, x_test))"
      ],
      "execution_count": 37,
      "outputs": [
        {
          "output_type": "stream",
          "text": [
            "Epoch 1/4\n",
            "200/200 [==============================] - 147s 737ms/step - loss: -475.8158 - val_loss: -508.1674\n",
            "Epoch 2/4\n",
            "200/200 [==============================] - 149s 743ms/step - loss: -501.7525 - val_loss: -509.5141\n",
            "Epoch 3/4\n",
            "200/200 [==============================] - 143s 717ms/step - loss: -502.5338 - val_loss: -509.9727\n",
            "Epoch 4/4\n",
            "200/200 [==============================] - 145s 725ms/step - loss: -502.9108 - val_loss: -510.2574\n"
          ],
          "name": "stdout"
        },
        {
          "output_type": "execute_result",
          "data": {
            "text/plain": [
              "<tensorflow.python.keras.callbacks.History at 0x7f4339109fd0>"
            ]
          },
          "metadata": {
            "tags": []
          },
          "execution_count": 37
        }
      ]
    },
    {
      "cell_type": "code",
      "metadata": {
        "id": "MvLJauqg0sRO",
        "colab_type": "code",
        "colab": {
          "base_uri": "https://localhost:8080/",
          "height": 282
        },
        "outputId": "5ee3638d-9db7-409b-929f-38a56d458f59"
      },
      "source": [
        "plt.imshow(x_train_noisy[1])"
      ],
      "execution_count": 38,
      "outputs": [
        {
          "output_type": "execute_result",
          "data": {
            "text/plain": [
              "<matplotlib.image.AxesImage at 0x7f4336745da0>"
            ]
          },
          "metadata": {
            "tags": []
          },
          "execution_count": 38
        },
        {
          "output_type": "display_data",
          "data": {
            "image/png": "[encoded data removed]",
            "text/plain": [
              "<Figure size 432x288 with 1 Axes>"
            ]
          },
          "metadata": {
            "tags": [],
            "needs_background": "light"
          }
        }
      ]
    },
    {
      "cell_type": "code",
      "metadata": {
        "id": "H3054PxtEESS",
        "colab_type": "code",
        "colab": {}
      },
      "source": [
        "result=autoencoder.predict(x_train_noisy[1].reshape(1,28,28,1))"
      ],
      "execution_count": 39,
      "outputs": []
    },
    {
      "cell_type": "code",
      "metadata": {
        "id": "OOcNkQ2rE52m",
        "colab_type": "code",
        "colab": {
          "base_uri": "https://localhost:8080/",
          "height": 282
        },
        "outputId": "abc7a203-2ed3-4f4f-cabb-debccdf16795"
      },
      "source": [
        "plt.imshow(result.reshape(28,28))"
      ],
      "execution_count": 40,
      "outputs": [
        {
          "output_type": "execute_result",
          "data": {
            "text/plain": [
              "<matplotlib.image.AxesImage at 0x7f433bce1240>"
            ]
          },
          "metadata": {
            "tags": []
          },
          "execution_count": 40
        },
        {
          "output_type": "display_data",
          "data": {
            "image/png": "[encoded data removed]",
            "text/plain": [
              "<Figure size 432x288 with 1 Axes>"
            ]
          },
          "metadata": {
            "tags": [],
            "needs_background": "light"
          }
        }
      ]
    },
    {
      "cell_type": "code",
      "metadata": {
        "id": "Qqp2aJAlE91_",
        "colab_type": "code",
        "colab": {}
      },
      "source": [
        ""
      ],
      "execution_count": null,
      "outputs": []
    }
  ]
}